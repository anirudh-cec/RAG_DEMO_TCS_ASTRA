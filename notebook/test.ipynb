{
 "cells": [
  {
   "cell_type": "code",
   "execution_count": 1,
   "metadata": {},
   "outputs": [
    {
     "name": "stdout",
     "output_type": "stream",
     "text": [
      "Jai Shree Ram\n"
     ]
    }
   ],
   "source": [
    "print(\"Jai Shree Ram\")"
   ]
  },
  {
   "cell_type": "code",
   "execution_count": 19,
   "metadata": {},
   "outputs": [
    {
     "name": "stdout",
     "output_type": "stream",
     "text": [
      "Collecting faiss-cpu\n",
      "  Downloading faiss_cpu-1.11.0-cp310-cp310-macosx_14_0_arm64.whl.metadata (4.8 kB)\n",
      "Requirement already satisfied: numpy<3.0,>=1.25.0 in /opt/anaconda3/envs/nlpproject2/lib/python3.10/site-packages (from faiss-cpu) (1.26.4)\n",
      "Requirement already satisfied: packaging in /opt/anaconda3/envs/nlpproject2/lib/python3.10/site-packages (from faiss-cpu) (24.2)\n",
      "Downloading faiss_cpu-1.11.0-cp310-cp310-macosx_14_0_arm64.whl (3.3 MB)\n",
      "\u001b[2K   \u001b[90m━━━━━━━━━━━━━━━━━━━━━━━━━━━━━━━━━━━━━━━━\u001b[0m \u001b[32m3.3/3.3 MB\u001b[0m \u001b[31m27.6 MB/s\u001b[0m eta \u001b[36m0:00:00\u001b[0m\n",
      "\u001b[?25hInstalling collected packages: faiss-cpu\n",
      "Successfully installed faiss-cpu-1.11.0\n",
      "Note: you may need to restart the kernel to use updated packages.\n"
     ]
    }
   ],
   "source": [
    "pip install faiss-cpu"
   ]
  },
  {
   "cell_type": "code",
   "execution_count": 15,
   "metadata": {},
   "outputs": [
    {
     "name": "stdout",
     "output_type": "stream",
     "text": [
      "Collecting openai\n",
      "  Downloading openai-1.83.0-py3-none-any.whl.metadata (25 kB)\n",
      "Requirement already satisfied: anyio<5,>=3.5.0 in /opt/anaconda3/envs/nlpproject2/lib/python3.10/site-packages (from openai) (4.9.0)\n",
      "Requirement already satisfied: distro<2,>=1.7.0 in /opt/anaconda3/envs/nlpproject2/lib/python3.10/site-packages (from openai) (1.9.0)\n",
      "Requirement already satisfied: httpx<1,>=0.23.0 in /opt/anaconda3/envs/nlpproject2/lib/python3.10/site-packages (from openai) (0.28.1)\n",
      "Collecting jiter<1,>=0.4.0 (from openai)\n",
      "  Downloading jiter-0.10.0-cp310-cp310-macosx_11_0_arm64.whl.metadata (5.2 kB)\n",
      "Requirement already satisfied: pydantic<3,>=1.9.0 in /opt/anaconda3/envs/nlpproject2/lib/python3.10/site-packages (from openai) (2.11.4)\n",
      "Requirement already satisfied: sniffio in /opt/anaconda3/envs/nlpproject2/lib/python3.10/site-packages (from openai) (1.3.1)\n",
      "Requirement already satisfied: tqdm>4 in /opt/anaconda3/envs/nlpproject2/lib/python3.10/site-packages (from openai) (4.67.1)\n",
      "Requirement already satisfied: typing-extensions<5,>=4.11 in /opt/anaconda3/envs/nlpproject2/lib/python3.10/site-packages (from openai) (4.13.2)\n",
      "Requirement already satisfied: exceptiongroup>=1.0.2 in /opt/anaconda3/envs/nlpproject2/lib/python3.10/site-packages (from anyio<5,>=3.5.0->openai) (1.2.2)\n",
      "Requirement already satisfied: idna>=2.8 in /opt/anaconda3/envs/nlpproject2/lib/python3.10/site-packages (from anyio<5,>=3.5.0->openai) (3.10)\n",
      "Requirement already satisfied: certifi in /opt/anaconda3/envs/nlpproject2/lib/python3.10/site-packages (from httpx<1,>=0.23.0->openai) (2025.4.26)\n",
      "Requirement already satisfied: httpcore==1.* in /opt/anaconda3/envs/nlpproject2/lib/python3.10/site-packages (from httpx<1,>=0.23.0->openai) (1.0.9)\n",
      "Requirement already satisfied: h11>=0.16 in /opt/anaconda3/envs/nlpproject2/lib/python3.10/site-packages (from httpcore==1.*->httpx<1,>=0.23.0->openai) (0.16.0)\n",
      "Requirement already satisfied: annotated-types>=0.6.0 in /opt/anaconda3/envs/nlpproject2/lib/python3.10/site-packages (from pydantic<3,>=1.9.0->openai) (0.7.0)\n",
      "Requirement already satisfied: pydantic-core==2.33.2 in /opt/anaconda3/envs/nlpproject2/lib/python3.10/site-packages (from pydantic<3,>=1.9.0->openai) (2.33.2)\n",
      "Requirement already satisfied: typing-inspection>=0.4.0 in /opt/anaconda3/envs/nlpproject2/lib/python3.10/site-packages (from pydantic<3,>=1.9.0->openai) (0.4.0)\n",
      "Downloading openai-1.83.0-py3-none-any.whl (723 kB)\n",
      "\u001b[2K   \u001b[90m━━━━━━━━━━━━━━━━━━━━━━━━━━━━━━━━━━━━━━━━\u001b[0m \u001b[32m723.4/723.4 kB\u001b[0m \u001b[31m19.8 MB/s\u001b[0m eta \u001b[36m0:00:00\u001b[0m\n",
      "\u001b[?25hDownloading jiter-0.10.0-cp310-cp310-macosx_11_0_arm64.whl (322 kB)\n",
      "Installing collected packages: jiter, openai\n",
      "\u001b[2K   \u001b[90m━━━━━━━━━━━━━━━━━━━━━━━━━━━━━━━━━━━━━━━━\u001b[0m \u001b[32m2/2\u001b[0m [openai]2m1/2\u001b[0m [openai]\n",
      "\u001b[1A\u001b[2KSuccessfully installed jiter-0.10.0 openai-1.83.0\n",
      "Note: you may need to restart the kernel to use updated packages.\n"
     ]
    }
   ],
   "source": [
    "pip install openai"
   ]
  },
  {
   "cell_type": "code",
   "execution_count": 6,
   "metadata": {},
   "outputs": [
    {
     "name": "stdout",
     "output_type": "stream",
     "text": [
      "Collecting PyPDF\n",
      "  Downloading pypdf-5.6.0-py3-none-any.whl.metadata (7.2 kB)\n",
      "Requirement already satisfied: typing_extensions>=4.0 in /opt/anaconda3/envs/nlpproject2/lib/python3.10/site-packages (from PyPDF) (4.13.2)\n",
      "Downloading pypdf-5.6.0-py3-none-any.whl (304 kB)\n",
      "Installing collected packages: PyPDF\n",
      "Successfully installed PyPDF-5.6.0\n"
     ]
    }
   ],
   "source": [
    "!pip install PyPDF"
   ]
  },
  {
   "cell_type": "code",
   "execution_count": 3,
   "metadata": {},
   "outputs": [],
   "source": [
    "from langchain.document_loaders import PyPDFLoader"
   ]
  },
  {
   "cell_type": "code",
   "execution_count": 6,
   "metadata": {},
   "outputs": [],
   "source": [
    "loader = PyPDFLoader('/Users/anirudh/Downloads/Projects/TCS_RAG_DEMO/data/Apple.pdf')"
   ]
  },
  {
   "cell_type": "code",
   "execution_count": 7,
   "metadata": {},
   "outputs": [],
   "source": [
    "data = loader.load()"
   ]
  },
  {
   "cell_type": "code",
   "execution_count": 8,
   "metadata": {},
   "outputs": [],
   "source": [
    "from langchain.text_splitter import RecursiveCharacterTextSplitter"
   ]
  },
  {
   "cell_type": "code",
   "execution_count": 9,
   "metadata": {},
   "outputs": [],
   "source": [
    "splitter = RecursiveCharacterTextSplitter(chunk_size=800, chunk_overlap=200)"
   ]
  },
  {
   "cell_type": "code",
   "execution_count": 10,
   "metadata": {},
   "outputs": [],
   "source": [
    "docs = splitter.split_documents(data)"
   ]
  },
  {
   "cell_type": "code",
   "execution_count": 6,
   "metadata": {},
   "outputs": [],
   "source": [
    "from langchain.embeddings import OpenAIEmbeddings\n",
    "from langchain.chat_models import ChatOpenAI\n",
    "from langchain.vectorstores import FAISS\n",
    "from langchain_core.output_parsers import StrOutputParser"
   ]
  },
  {
   "cell_type": "code",
   "execution_count": 8,
   "metadata": {},
   "outputs": [],
   "source": [
    "import os\n",
    "OPENAI_API_KEY = os.environ.get(\"OPENAI_API_KEY\")"
   ]
  },
  {
   "cell_type": "code",
   "execution_count": 13,
   "metadata": {},
   "outputs": [
    {
     "name": "stderr",
     "output_type": "stream",
     "text": [
      "/var/folders/b4/5ls6q5d9593br2bzh8lgt8040000gp/T/ipykernel_3854/1518690668.py:1: LangChainDeprecationWarning: The class `OpenAIEmbeddings` was deprecated in LangChain 0.0.9 and will be removed in 1.0. An updated version of the class exists in the :class:`~langchain-openai package and should be used instead. To use it run `pip install -U :class:`~langchain-openai` and import as `from :class:`~langchain_openai import OpenAIEmbeddings``.\n",
      "  embeddings = OpenAIEmbeddings(model=\"text-embedding-3-small\", openai_api_key=OPENAI_API_KEY)\n"
     ]
    }
   ],
   "source": [
    "embeddings = OpenAIEmbeddings(model=\"text-embedding-3-small\", openai_api_key=OPENAI_API_KEY)"
   ]
  },
  {
   "cell_type": "code",
   "execution_count": 14,
   "metadata": {},
   "outputs": [
    {
     "name": "stderr",
     "output_type": "stream",
     "text": [
      "/var/folders/b4/5ls6q5d9593br2bzh8lgt8040000gp/T/ipykernel_3854/3869890841.py:1: LangChainDeprecationWarning: The class `ChatOpenAI` was deprecated in LangChain 0.0.10 and will be removed in 1.0. An updated version of the class exists in the :class:`~langchain-openai package and should be used instead. To use it run `pip install -U :class:`~langchain-openai` and import as `from :class:`~langchain_openai import ChatOpenAI``.\n",
      "  llm = ChatOpenAI(model=\"gpt-4o\", temperature=0, openai_api_key=OPENAI_API_KEY)\n"
     ]
    }
   ],
   "source": [
    "llm = ChatOpenAI(model=\"gpt-4o\", temperature=0, openai_api_key=OPENAI_API_KEY)"
   ]
  },
  {
   "cell_type": "code",
   "execution_count": 20,
   "metadata": {},
   "outputs": [],
   "source": [
    "vectorstore = FAISS.from_documents(docs,embeddings)"
   ]
  },
  {
   "cell_type": "code",
   "execution_count": 28,
   "metadata": {},
   "outputs": [],
   "source": [
    "retriever = vectorstore.as_retriever()"
   ]
  },
  {
   "cell_type": "code",
   "execution_count": 30,
   "metadata": {},
   "outputs": [],
   "source": [
    "from langchain.embeddings import OpenAIEmbeddings\n",
    "from langchain.chat_models import ChatOpenAI\n",
    "from langchain.vectorstores import FAISS\n",
    "from langchain_core.output_parsers import StrOutputParser"
   ]
  },
  {
   "cell_type": "code",
   "execution_count": 23,
   "metadata": {},
   "outputs": [],
   "source": [
    "template=\"\"\"\n",
    "    You are an expert Report Analysis bot who analize the report and answer questions.\n",
    "    Analyze the provided Document to answer related questions.\n",
    "    Stay relevant to the context, and keep your answers concise and informative.\n",
    "\n",
    "    CONTEXT:\n",
    "    {context}\n",
    "\n",
    "    QUESTION: {question}\n",
    "\n",
    "    YOUR ANSWER:\n",
    "    \"\"\"\n"
   ]
  },
  {
   "cell_type": "code",
   "execution_count": 24,
   "metadata": {},
   "outputs": [],
   "source": [
    "from langchain.prompts import ChatPromptTemplate"
   ]
  },
  {
   "cell_type": "code",
   "execution_count": 25,
   "metadata": {},
   "outputs": [],
   "source": [
    "prompt = ChatPromptTemplate.from_template(template)"
   ]
  },
  {
   "cell_type": "code",
   "execution_count": 26,
   "metadata": {},
   "outputs": [],
   "source": [
    "from langchain_core.runnables import RunnablePassthrough"
   ]
  },
  {
   "cell_type": "code",
   "execution_count": 32,
   "metadata": {},
   "outputs": [],
   "source": [
    "parser =StrOutputParser()"
   ]
  },
  {
   "cell_type": "code",
   "execution_count": 33,
   "metadata": {},
   "outputs": [],
   "source": [
    "rag_chain = (\n",
    "    {\"context\": retriever , \"question\": RunnablePassthrough()}\n",
    "    | prompt\n",
    "    | llm\n",
    "    | parser\n",
    ")"
   ]
  },
  {
   "cell_type": "code",
   "execution_count": 34,
   "metadata": {},
   "outputs": [
    {
     "data": {
      "text/plain": [
       "\"- **Interest Rate Risk**: The company is exposed to fluctuations in U.S. interest rates, which can negatively affect the fair value of its investment portfolio and increase interest expenses on term debt.\\n\\n- **Foreign Exchange Rate Risk**: Economic risks from foreign exchange rates can impact the company's consolidated financial statements.\\n\\n- **Component Defects and Product Safety Risks**: Defects in components and products purchased from third parties can make the company's products unsafe, leading to potential environmental or property damage and personal injury.\\n\\n- **Service Quality and Performance Risks**: The company's service offerings may experience outages, slowdowns, or errors, which can lead to unmet customer expectations and harm the company's reputation.\\n\\n- **Cybersecurity Risks**: The company faces risks related to unauthorized access to or loss of sensitive data, despite implementing security measures like encryption and authentication technologies.\""
      ]
     },
     "execution_count": 34,
     "metadata": {},
     "output_type": "execute_result"
    }
   ],
   "source": [
    "rag_chain.invoke(\"What are the Risks that the company is exposed to. Give 5 risks in bullet points.\")"
   ]
  },
  {
   "cell_type": "code",
   "execution_count": 1,
   "metadata": {},
   "outputs": [],
   "source": [
    "########"
   ]
  },
  {
   "cell_type": "code",
   "execution_count": 9,
   "metadata": {},
   "outputs": [
    {
     "name": "stderr",
     "output_type": "stream",
     "text": [
      "/var/folders/b4/5ls6q5d9593br2bzh8lgt8040000gp/T/ipykernel_1905/1518690668.py:1: LangChainDeprecationWarning: The class `OpenAIEmbeddings` was deprecated in LangChain 0.0.9 and will be removed in 1.0. An updated version of the class exists in the :class:`~langchain-openai package and should be used instead. To use it run `pip install -U :class:`~langchain-openai` and import as `from :class:`~langchain_openai import OpenAIEmbeddings``.\n",
      "  embeddings = OpenAIEmbeddings(model=\"text-embedding-3-small\", openai_api_key=OPENAI_API_KEY)\n"
     ]
    }
   ],
   "source": [
    "embeddings = OpenAIEmbeddings(model=\"text-embedding-3-small\", openai_api_key=OPENAI_API_KEY)"
   ]
  },
  {
   "cell_type": "code",
   "execution_count": 10,
   "metadata": {},
   "outputs": [
    {
     "name": "stderr",
     "output_type": "stream",
     "text": [
      "/var/folders/b4/5ls6q5d9593br2bzh8lgt8040000gp/T/ipykernel_1905/3869890841.py:1: LangChainDeprecationWarning: The class `ChatOpenAI` was deprecated in LangChain 0.0.10 and will be removed in 1.0. An updated version of the class exists in the :class:`~langchain-openai package and should be used instead. To use it run `pip install -U :class:`~langchain-openai` and import as `from :class:`~langchain_openai import ChatOpenAI``.\n",
      "  llm = ChatOpenAI(model=\"gpt-4o\", temperature=0, openai_api_key=OPENAI_API_KEY)\n"
     ]
    }
   ],
   "source": [
    "llm = ChatOpenAI(model=\"gpt-4o\", temperature=0, openai_api_key=OPENAI_API_KEY)"
   ]
  },
  {
   "cell_type": "code",
   "execution_count": 11,
   "metadata": {},
   "outputs": [],
   "source": [
    "from langchain_astradb import AstraDBVectorStore"
   ]
  },
  {
   "cell_type": "code",
   "execution_count": 12,
   "metadata": {},
   "outputs": [],
   "source": [
    "vstore = AstraDBVectorStore(\n",
    "        embedding=embeddings,\n",
    "        collection_name=\"tcsrag\",\n",
    "        api_endpoint=\"https://94abba2b-9f1f-4307-8065-5d4b997902b4-us-east-2.apps.astra.datastax.com\",\n",
    "        token=\"AstraCS:IzABCTMmiIXMqHbZYDLBXEbO:5336f0724b7761ead187ff7657fccb48f4b539cbff3a82c7a326301d3182d181\",\n",
    "        namespace=\"default_keyspace\"\n",
    "        \n",
    "        )"
   ]
  },
  {
   "cell_type": "code",
   "execution_count": 21,
   "metadata": {},
   "outputs": [],
   "source": [
    "inserted_ids = vstore.add_documents(docs)"
   ]
  },
  {
   "cell_type": "code",
   "execution_count": 13,
   "metadata": {},
   "outputs": [],
   "source": [
    "retriever = vstore.as_retriever(search_kwargs={\"k\": 3})"
   ]
  },
  {
   "cell_type": "code",
   "execution_count": 14,
   "metadata": {},
   "outputs": [],
   "source": [
    "output=retriever.invoke(\"what are the Legal and Regulatory Compliance Risks?\")"
   ]
  },
  {
   "cell_type": "code",
   "execution_count": 15,
   "metadata": {},
   "outputs": [
    {
     "data": {
      "text/plain": [
       "[Document(id='82e0bb45be9247a196f231310da4bc61', metadata={'producer': 'Wdesk Fidelity Content Translations Version 010.004.252', 'creator': 'Workiva', 'creationdate': '2024-10-31T19:17:25+00:00', 'author': 'anonymous', 'moddate': '2024-10-31T14:07:33-07:00', 'title': '10-K 2024, 09.28.2024-2024-10-31-12-16', 'source': '/Users/anirudh/Downloads/Projects/TCS_RAG_DEMO/data/Apple.pdf', 'total_pages': 121, 'page': 15, 'page_label': '16'}, page_content='Legal and Regulatory Compliance Risks\\nThe Company’s business, results of operations and financial condition could be adversely impacted by unfavorable \\nresults of legal proceedings or government investigations.\\nThe Company is subject to various claims, legal proceedings and government investigations that have arisen in the ordinary \\ncourse of business and have not yet been fully resolved, and new matters may arise in the future. In addition, agreements \\nentered into by the Company sometimes include indemnification provisions which can subject the Company to costs and \\ndamages in the event of a claim against an indemnified third party. The number of claims, legal proceedings and government \\ninvestigations involving the Company, and the alleged magnitude of such claims, proceedings and government investigations, \\nhas generally increased over time and may continue to increase.'),\n",
       " Document(id='85661ad3eaec4cb58a41e89628fd255c', metadata={'producer': 'Wdesk Fidelity Content Translations Version 010.004.252', 'creator': 'Workiva', 'creationdate': '2024-10-31T19:17:25+00:00', 'author': 'anonymous', 'moddate': '2024-10-31T14:07:33-07:00', 'title': '10-K 2024, 09.28.2024-2024-10-31-12-16', 'source': '/Users/anirudh/Downloads/Projects/TCS_RAG_DEMO/data/Apple.pdf', 'total_pages': 121, 'page': 15, 'page_label': '16'}, page_content='and technology; product liability; intellectual property ownership and infringement; digital platforms; machine learning and \\nartificial intelligence; internet, telecommunications and mobile communications; media, television, film and digital content; \\navailability of third-party software applications and services; labor and employment; anticorruption; import, export and trade; \\nforeign exchange controls and cash repatriation restrictions; anti–money laundering; foreign ownership and investment; tax; and \\nenvironmental, health and safety, including electronic waste, recycling, product design and climate change.\\nCompliance with these laws and regulations is onerous and expensive. New and changing laws and regulations can adversely \\naffect the Company’s business by increasing the Company’s costs, limiting the Company’s ability to offer a product, service or \\nfeature to customers, imposing changes to the design of the Company’s products and services, impacting customer demand for'),\n",
       " Document(id='f3b82a8c4baf4c7197292fba97492a75', metadata={'producer': 'Wdesk Fidelity Content Translations Version 010.004.252', 'creator': 'Workiva', 'creationdate': '2024-10-31T19:17:25+00:00', 'author': 'anonymous', 'moddate': '2024-10-31T14:07:33-07:00', 'title': '10-K 2024, 09.28.2024-2024-10-31-12-16', 'source': '/Users/anirudh/Downloads/Projects/TCS_RAG_DEMO/data/Apple.pdf', 'total_pages': 121, 'page': 15, 'page_label': '16'}, page_content='feature to customers, imposing changes to the design of the Company’s products and services, impacting customer demand for \\nthe Company’s products and services, and requiring changes to the Company’s business or supply chain. New and changing \\nlaws and regulations can also create uncertainty about how such laws and regulations will be interpreted and applied. These \\nrisks and costs may increase as the Company’s products and services are introduced into specialized applications, including \\nhealth and financial  service s, or as the Company expands the use of technologies, such as machine learning and artificial \\nintelligence features, and must navigate new legal, regulatory and ethical considerations relating to such technologies. The \\nCompany has implemented policies and procedures designed to ensure compliance with applicable laws and regulations, but \\nthere can be no assurance the Company’s employees, contractors or agents will not violate such laws and regulations or the')]"
      ]
     },
     "execution_count": 15,
     "metadata": {},
     "output_type": "execute_result"
    }
   ],
   "source": [
    "output"
   ]
  },
  {
   "cell_type": "code",
   "execution_count": 25,
   "metadata": {},
   "outputs": [
    {
     "name": "stdout",
     "output_type": "stream",
     "text": [
      "The Legal and Regulatory Compliance Risks mentioned in the document include:\n",
      "\n",
      "1. The potential adverse impact on the company's business, operations, and financial condition due to unfavorable outcomes in legal proceedings or government investigations.\n",
      "2. The company is involved in various claims, legal proceedings, and government investigations that arise in the ordinary course of business, which have not been fully resolved, and new issues may arise in the future.\n",
      "3. Indemnification provisions in agreements can lead to costs and damages if there is a claim against an indemnified third party.\n",
      "4. The number and magnitude of claims, legal proceedings, and government investigations involving the company have generally increased over time and may continue to do so.\n",
      "5. Compliance with a wide range of laws and regulations, including those related to technology, product liability, intellectual property, digital platforms, machine learning, telecommunications, media, labor, anticorruption, trade, foreign exchange, anti-money laundering, foreign ownership, tax, and environmental issues, is onerous and expensive.\n",
      "6. New and changing laws and regulations can increase costs, limit product offerings, require design changes, impact customer demand, and necessitate changes to the business or supply chain.\n",
      "7. There is uncertainty about how new laws and regulations will be interpreted and applied, especially as the company expands into specialized applications and technologies like machine learning and artificial intelligence.\n"
     ]
    }
   ],
   "source": [
    "from dotenv import load_dotenv\n",
    "from langchain_core.runnables import RunnablePassthrough\n",
    "\n",
    "from langchain_core.output_parsers import StrOutputParser\n",
    "\n",
    "from langchain_core.prompts import ChatPromptTemplate\n",
    "\n",
    "\n",
    "from langchain_community.chat_models import ChatOpenAI\n",
    "import os\n",
    "\n",
    "load_dotenv()\n",
    "\n",
    "prompt_template={\n",
    "    \"product_bot\": \"\"\"\n",
    "    You are an expert Report Analysis bot who analize the report and answer questions.\n",
    "    Analyze the provided Document to answer related questions.\n",
    "    Stay relevant to the context, and keep your answers concise and informative.\n",
    "\n",
    "    CONTEXT:\n",
    "    {context}\n",
    "\n",
    "    QUESTION: {question}\n",
    "\n",
    "    YOUR ANSWER:\n",
    "    \"\"\"\n",
    "}\n",
    "\n",
    "##retriever_obj = Retriever()\n",
    "openai_api_key = os.getenv('OPENAI_API_KEY')\n",
    "#model_loader = ModelLoader()\n",
    "\n",
    "def invoke_chain(query:str):\n",
    "    \n",
    "    #retriever=retriever_obj.load_retriever()\n",
    "    prompt = ChatPromptTemplate.from_template(prompt_template[\"product_bot\"])\n",
    "    llm = ChatOpenAI(model=\"gpt-4o\", temperature=0, openai_api_key=openai_api_key)\n",
    "    \n",
    "    chain=(\n",
    "        {\"context\": retriever, \"question\": RunnablePassthrough()}\n",
    "        | prompt\n",
    "        | llm\n",
    "        | StrOutputParser()\n",
    "    \n",
    "    )\n",
    "    \n",
    "    output=chain.invoke(query)\n",
    "    \n",
    "    return output\n",
    "\n",
    "if __name__ == \"__main__\":\n",
    "    op = invoke_chain('what are the Legal and Regulatory Compliance Risks?')\n",
    "    print(op)"
   ]
  },
  {
   "cell_type": "code",
   "execution_count": null,
   "metadata": {},
   "outputs": [],
   "source": []
  }
 ],
 "metadata": {
  "kernelspec": {
   "display_name": "nlpproject2",
   "language": "python",
   "name": "python3"
  },
  "language_info": {
   "codemirror_mode": {
    "name": "ipython",
    "version": 3
   },
   "file_extension": ".py",
   "mimetype": "text/x-python",
   "name": "python",
   "nbconvert_exporter": "python",
   "pygments_lexer": "ipython3",
   "version": "3.10.16"
  }
 },
 "nbformat": 4,
 "nbformat_minor": 2
}
